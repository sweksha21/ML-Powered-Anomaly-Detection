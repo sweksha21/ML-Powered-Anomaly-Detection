{
  "nbformat": 4,
  "nbformat_minor": 0,
  "metadata": {
    "colab": {
      "provenance": [],
      "authorship_tag": "ABX9TyMTM6SU11yY2+Ct8wb6fMzt",
      "include_colab_link": true
    },
    "kernelspec": {
      "name": "python3",
      "display_name": "Python 3"
    },
    "language_info": {
      "name": "python"
    }
  },
  "cells": [
    {
      "cell_type": "markdown",
      "metadata": {
        "id": "view-in-github",
        "colab_type": "text"
      },
      "source": [
        "<a href=\"https://colab.research.google.com/github/sweksha21/ML-Powered-Anomaly-Detection/blob/main/loaded_predictions.ipynb\" target=\"_parent\"><img src=\"https://colab.research.google.com/assets/colab-badge.svg\" alt=\"Open In Colab\"/></a>"
      ]
    },
    {
      "cell_type": "code",
      "execution_count": null,
      "metadata": {
        "id": "ESBInOKAQ1-w"
      },
      "outputs": [],
      "source": [
        "# Importing necessary libraries\n",
        "import pandas as pd\n",
        "import numpy as np\n",
        "from sklearn.model_selection import train_test_split\n",
        "from sklearn.preprocessing import LabelEncoder, StandardScaler\n",
        "from sklearn.neighbors import KNeighborsClassifier\n",
        "from sklearn.linear_model import LogisticRegression\n",
        "from sklearn.svm import SVC\n",
        "from sklearn.metrics import classification_report, accuracy_score, confusion_matrix\n"
      ]
    },
    {
      "cell_type": "code",
      "source": [
        "import pandas as pd\n",
        "\n",
        "# Load the predictions\n",
        "predictions_df = pd.read_csv('/content/Test_Predictions.csv')  # Adjust the file name as needed\n",
        "print(predictions_df.head())\n"
      ],
      "metadata": {
        "colab": {
          "base_uri": "https://localhost:8080/"
        },
        "id": "Wt0wIgrSVgqu",
        "outputId": "d9b8b509-2328-4c4e-8267-738f86ca2579"
      },
      "execution_count": null,
      "outputs": [
        {
          "output_type": "stream",
          "name": "stdout",
          "text": [
            "  Prediction\n",
            "0    anomaly\n",
            "1    anomaly\n",
            "2     normal\n",
            "3    anomaly\n",
            "4     normal\n"
          ]
        }
      ]
    },
    {
      "cell_type": "code",
      "source": [
        "true_labels_df = pd.read_csv('/content/labeled_test_data.csv')  # Adjust the file name as needed\n",
        "results_df = pd.DataFrame({\n",
        "    'True Labels': true_labels_df['label'],  # Adjust the column name as needed\n",
        "    'Predictions': predictions_df['Prediction']  # Changed 'prediction' to 'Prediction'\n",
        "})"
      ],
      "metadata": {
        "id": "BpWj9SCeiQSa"
      },
      "execution_count": null,
      "outputs": []
    },
    {
      "cell_type": "code",
      "source": [
        "from sklearn.metrics import classification_report, confusion_matrix\n",
        "\n",
        "y_true = results_df['True Labels']\n",
        "y_pred = results_df['Predictions']\n",
        "\n",
        "print(confusion_matrix(y_true, y_pred))\n",
        "print(classification_report(y_true, y_pred))\n"
      ],
      "metadata": {
        "colab": {
          "base_uri": "https://localhost:8080/"
        },
        "id": "LAyFfF1UVguU",
        "outputId": "31ba7bcf-390d-4c95-c755-a698ecc6391a"
      },
      "execution_count": null,
      "outputs": [
        {
          "output_type": "stream",
          "name": "stdout",
          "text": [
            "[[    0     0]\n",
            " [ 8726 13818]]\n"
          ]
        },
        {
          "output_type": "stream",
          "name": "stderr",
          "text": [
            "/usr/local/lib/python3.10/dist-packages/sklearn/metrics/_classification.py:1531: UndefinedMetricWarning: Recall is ill-defined and being set to 0.0 in labels with no true samples. Use `zero_division` parameter to control this behavior.\n",
            "  _warn_prf(average, modifier, f\"{metric.capitalize()} is\", len(result))\n",
            "/usr/local/lib/python3.10/dist-packages/sklearn/metrics/_classification.py:1531: UndefinedMetricWarning: Recall is ill-defined and being set to 0.0 in labels with no true samples. Use `zero_division` parameter to control this behavior.\n",
            "  _warn_prf(average, modifier, f\"{metric.capitalize()} is\", len(result))\n"
          ]
        },
        {
          "output_type": "stream",
          "name": "stdout",
          "text": [
            "              precision    recall  f1-score   support\n",
            "\n",
            "     anomaly       0.00      0.00      0.00         0\n",
            "      normal       1.00      0.61      0.76     22544\n",
            "\n",
            "    accuracy                           0.61     22544\n",
            "   macro avg       0.50      0.31      0.38     22544\n",
            "weighted avg       1.00      0.61      0.76     22544\n",
            "\n"
          ]
        },
        {
          "output_type": "stream",
          "name": "stderr",
          "text": [
            "/usr/local/lib/python3.10/dist-packages/sklearn/metrics/_classification.py:1531: UndefinedMetricWarning: Recall is ill-defined and being set to 0.0 in labels with no true samples. Use `zero_division` parameter to control this behavior.\n",
            "  _warn_prf(average, modifier, f\"{metric.capitalize()} is\", len(result))\n"
          ]
        }
      ]
    },
    {
      "cell_type": "code",
      "source": [
        "import seaborn as sns\n",
        "import matplotlib.pyplot as plt\n",
        "\n",
        "cm = confusion_matrix(y_true, y_pred)\n",
        "sns.heatmap(cm, annot=True, fmt='d', cmap='Blues')\n",
        "plt.xlabel('Predicted')\n",
        "plt.ylabel('True')\n",
        "plt.title('Confusion Matrix')\n",
        "plt.show()\n"
      ],
      "metadata": {
        "colab": {
          "base_uri": "https://localhost:8080/",
          "height": 472
        },
        "id": "sIGkmrZzkZK3",
        "outputId": "f6298f12-9fbb-4017-ee71-5b890b2f5526"
      },
      "execution_count": null,
      "outputs": [
        {
          "output_type": "display_data",
          "data": {
            "text/plain": [
              "<Figure size 640x480 with 2 Axes>"
            ],
            "image/png": "[encoded data removed]"
          },
          "metadata": {}
        }
      ]
    },
    {
      "cell_type": "code",
      "source": [
        "from sklearn.model_selection import train_test_split\n",
        "from sklearn.svm import SVC\n",
        "from sklearn.datasets import make_classification\n",
        "\n",
        "# Example dataset\n",
        "X, y = make_classification(n_samples=1000, n_features=20, n_classes=2, random_state=42)\n",
        "\n",
        "# Split the dataset\n",
        "X_train, X_test, y_train, y_test = train_test_split(X, y, test_size=0.3, random_state=42)\n",
        "\n",
        "# Train an SVC classifier with probability enabled\n",
        "model = SVC(probability=True, random_state=42)\n",
        "model.fit(X_train, y_train)\n",
        "\n",
        "# Get predicted probabilities for the test set\n",
        "probabilities = model.predict_proba(X_test)[:, 1]  # Get probabilities for the positive class\n",
        "\n",
        "# Optional: Print the probabilities for inspection\n",
        "print(probabilities)\n"
      ],
      "metadata": {
        "colab": {
          "base_uri": "https://localhost:8080/"
        },
        "id": "AeBYGo5fkZXS",
        "outputId": "985d72b6-edc0-4e74-96fa-c755e113b7ad"
      },
      "execution_count": null,
      "outputs": [
        {
          "output_type": "stream",
          "name": "stdout",
          "text": [
            "[0.65783049 0.64699882 0.31213978 0.87447923 0.95072835 0.15485912\n",
            " 0.18001222 0.842242   0.81319197 0.39688335 0.9774256  0.61262598\n",
            " 0.02125909 0.66395595 0.79175576 0.1134695  0.14450159 0.95304752\n",
            " 0.93349845 0.46267451 0.92306686 0.1934756  0.11855354 0.10406231\n",
            " 0.97727719 0.02868957 0.94202087 0.95980438 0.06144341 0.97330203\n",
            " 0.68342099 0.96891933 0.76022079 0.05445766 0.35146341 0.29049721\n",
            " 0.01321233 0.51579766 0.05599753 0.20286368 0.01305522 0.98448133\n",
            " 0.05474427 0.24510368 0.5729749  0.01031794 0.98982385 0.0202131\n",
            " 0.87671374 0.99583789 0.02019714 0.18558746 0.06530107 0.98340335\n",
            " 0.93843203 0.78769592 0.01332805 0.12578527 0.69677243 0.11493392\n",
            " 0.88861504 0.06421451 0.03512635 0.90721094 0.96427616 0.02610031\n",
            " 0.93934999 0.9061197  0.90718143 0.21450911 0.19003431 0.47734379\n",
            " 0.53748718 0.27075531 0.16089251 0.92500923 0.05658836 0.61974504\n",
            " 0.82067212 0.04417965 0.05933113 0.14716391 0.06062893 0.97305723\n",
            " 0.91517573 0.56699791 0.03117821 0.04580812 0.05809134 0.71785594\n",
            " 0.90207169 0.01944556 0.0086924  0.08030924 0.75413444 0.06829059\n",
            " 0.80218752 0.22576763 0.64668789 0.19400022 0.95656359 0.94780251\n",
            " 0.11210886 0.05899607 0.94975457 0.06196217 0.98507961 0.41147161\n",
            " 0.03431451 0.02987895 0.02939711 0.08164721 0.15573428 0.51033085\n",
            " 0.23975833 0.89933627 0.9395596  0.1155369  0.89233028 0.23184735\n",
            " 0.96921549 0.97921816 0.21216572 0.01480762 0.98067671 0.98657008\n",
            " 0.92337234 0.01710619 0.43710677 0.21612564 0.00583201 0.92361381\n",
            " 0.77148    0.0202328  0.85463453 0.98810494 0.43642832 0.97777476\n",
            " 0.00932837 0.99222533 0.23123688 0.03927334 0.89790644 0.99237043\n",
            " 0.05596106 0.99102104 0.97330917 0.01331582 0.15704378 0.98413783\n",
            " 0.76102233 0.99036449 0.62682228 0.15913039 0.96625315 0.02118147\n",
            " 0.97962579 0.89298778 0.08630221 0.03905562 0.3094632  0.96927433\n",
            " 0.4419615  0.26547045 0.4278921  0.34641219 0.96242219 0.94206126\n",
            " 0.67544445 0.0258289  0.02167447 0.12064463 0.53698957 0.29032324\n",
            " 0.23334346 0.98487627 0.73613004 0.95726646 0.91766619 0.03862029\n",
            " 0.90210126 0.76470939 0.0739599  0.24500727 0.91343592 0.73662659\n",
            " 0.04792937 0.04002494 0.21534422 0.99068109 0.4118091  0.83989607\n",
            " 0.01055447 0.88128882 0.99668655 0.93518698 0.99735173 0.96661201\n",
            " 0.16710414 0.96728382 0.97051708 0.14825375 0.96171425 0.93205955\n",
            " 0.04704595 0.04431997 0.94728728 0.0279057  0.06102394 0.98750574\n",
            " 0.97432454 0.99738052 0.51179424 0.05827909 0.96852388 0.1346892\n",
            " 0.86605711 0.2387952  0.91919208 0.11211056 0.55728877 0.21536349\n",
            " 0.2866081  0.20171179 0.09286882 0.99126966 0.9816384  0.078039\n",
            " 0.76944328 0.84893384 0.9363033  0.38958694 0.06478722 0.52788267\n",
            " 0.73079805 0.51145427 0.26111506 0.71058235 0.86174842 0.82089903\n",
            " 0.90372139 0.98198357 0.95019285 0.14140322 0.92518483 0.66767478\n",
            " 0.62459604 0.19153073 0.02257938 0.0888513  0.16243294 0.76710355\n",
            " 0.05655893 0.26641081 0.70519603 0.98654509 0.86660808 0.13904142\n",
            " 0.06704046 0.10357741 0.00263421 0.04544415 0.5        0.97923172\n",
            " 0.81567447 0.04613046 0.88721366 0.05103035 0.03827731 0.88178571\n",
            " 0.9909653  0.02390312 0.97190385 0.07590751 0.97601781 0.79479467\n",
            " 0.06557004 0.99043301 0.29045234 0.0302577  0.91723622 0.04123249\n",
            " 0.7072119  0.90347058 0.03866293 0.65427933 0.08155145 0.13411217\n",
            " 0.13816721 0.86226875 0.22286417 0.89590423 0.50572166 0.98251719\n",
            " 0.98292739 0.04459066 0.00877379 0.86735259 0.01909787 0.14650977]\n"
          ]
        }
      ]
    },
    {
      "cell_type": "code",
      "source": [
        "model.predict(X_test)"
      ],
      "metadata": {
        "colab": {
          "base_uri": "https://localhost:8080/"
        },
        "id": "rBhnUmHTmT1t",
        "outputId": "08c3ac80-424d-418e-c35d-409bfdc2fc24"
      },
      "execution_count": null,
      "outputs": [
        {
          "output_type": "execute_result",
          "data": {
            "text/plain": [
              "array([1, 1, 0, 1, 1, 0, 0, 1, 1, 0, 1, 1, 0, 1, 1, 0, 0, 1, 1, 0, 1, 0,\n",
              "       0, 0, 1, 0, 1, 1, 0, 1, 1, 1, 1, 0, 0, 0, 0, 1, 0, 0, 0, 1, 0, 0,\n",
              "       1, 0, 1, 0, 1, 1, 0, 0, 0, 1, 1, 1, 0, 0, 1, 0, 1, 0, 0, 1, 1, 0,\n",
              "       1, 1, 1, 0, 0, 0, 1, 0, 0, 1, 0, 1, 1, 0, 0, 0, 0, 1, 1, 1, 0, 0,\n",
              "       0, 1, 1, 0, 0, 0, 1, 0, 1, 0, 1, 0, 1, 1, 0, 0, 1, 0, 1, 0, 0, 0,\n",
              "       0, 0, 0, 0, 0, 1, 1, 0, 1, 0, 1, 1, 0, 0, 1, 1, 1, 0, 0, 0, 0, 1,\n",
              "       1, 0, 1, 1, 0, 1, 0, 1, 0, 0, 1, 1, 0, 1, 1, 0, 0, 1, 1, 1, 1, 0,\n",
              "       1, 0, 1, 1, 0, 0, 0, 1, 0, 0, 0, 0, 1, 1, 1, 0, 0, 0, 1, 0, 0, 1,\n",
              "       1, 1, 1, 0, 1, 1, 0, 0, 1, 1, 0, 0, 0, 1, 0, 1, 0, 1, 1, 1, 1, 1,\n",
              "       0, 1, 1, 0, 1, 1, 0, 0, 1, 0, 0, 1, 1, 1, 0, 0, 1, 0, 1, 0, 1, 0,\n",
              "       1, 0, 0, 0, 0, 1, 1, 0, 1, 1, 1, 0, 0, 1, 1, 0, 0, 1, 1, 1, 1, 1,\n",
              "       1, 0, 1, 1, 1, 0, 0, 0, 0, 1, 0, 0, 1, 1, 1, 0, 0, 0, 0, 0, 0, 1,\n",
              "       1, 0, 1, 0, 0, 1, 1, 0, 1, 0, 1, 1, 0, 1, 0, 0, 1, 0, 1, 1, 0, 1,\n",
              "       0, 0, 0, 1, 0, 1, 0, 1, 1, 0, 0, 1, 0, 0])"
            ]
          },
          "metadata": {},
          "execution_count": 7
        }
      ]
    },
    {
      "cell_type": "code",
      "source": [
        "import pandas as pd\n",
        "from sklearn.model_selection import train_test_split\n",
        "from sklearn.svm import SVC\n",
        "from sklearn.datasets import make_classification\n",
        "from sklearn.metrics import roc_curve, auc\n",
        "import matplotlib.pyplot as plt\n",
        "\n",
        "# Example dataset\n",
        "X, y = make_classification(n_samples=1000, n_features=20, n_classes=2, random_state=42)\n",
        "\n",
        "# Split the dataset\n",
        "X_train, X_test, y_train, y_test = train_test_split(X, y, test_size=0.3, random_state=42)\n",
        "\n",
        "# Train an SVC classifier with probability enabled\n",
        "model = SVC(probability=True, random_state=42)\n",
        "model.fit(X_train, y_train)\n",
        "\n",
        "# Get predicted probabilities for the test set (probabilities for the positive class)\n",
        "probabilities = model.predict_proba(X_test)[:, 1]  # Get probabilities for the positive class\n",
        "\n",
        "# Assume y_test as your true labels (y_true)\n",
        "y_true = y_test  # Adjust according to your setup if y_true is defined elsewhere\n",
        "\n",
        "# Create a DataFrame to store predictions and probabilities\n",
        "predictions_df = pd.DataFrame({\n",
        "    'Prediction': model.predict(X_test),    # Predicted class labels\n",
        "    'probabilities': probabilities           # Probabilities for the positive class\n",
        "})\n",
        "\n",
        "# Calculate ROC curve and AUC score\n",
        "fpr, tpr, thresholds = roc_curve(y_true, predictions_df['probabilities'])\n",
        "roc_auc = auc(fpr, tpr)\n",
        "\n",
        "# Plotting the ROC curve\n",
        "plt.figure()\n",
        "plt.plot(fpr, tpr, label='AUC = {:.2f}'.format(roc_auc))\n",
        "plt.plot([0, 1], [0, 1], 'r--')\n",
        "plt.xlabel('False Positive Rate')\n",
        "plt.ylabel('True Positive Rate')\n",
        "plt.title('Receiver Operating Characteristic')\n",
        "plt.legend(loc='lower right')\n",
        "plt.show()\n"
      ],
      "metadata": {
        "colab": {
          "base_uri": "https://localhost:8080/",
          "height": 472
        },
        "id": "170MBO1hkZZt",
        "outputId": "949fcb4b-8ae2-4e9b-b6c4-c7367326d9bd"
      },
      "execution_count": null,
      "outputs": [
        {
          "output_type": "display_data",
          "data": {
            "text/plain": [
              "<Figure size 640x480 with 1 Axes>"
            ],
            "image/png": "[encoded data removed]"
          },
          "metadata": {}
        }
      ]
    },
    {
      "cell_type": "code",
      "source": [
        "new_data = pd.read_csv('/content/Test_data.csv')"
      ],
      "metadata": {
        "id": "wxQaSVzMnQ-v"
      },
      "execution_count": null,
      "outputs": []
    },
    {
      "cell_type": "code",
      "source": [
        "X_test = test_data[X_train.columns.intersection(test_data.columns)]\n"
      ],
      "metadata": {
        "id": "fMVd4PoLnRCb"
      },
      "execution_count": null,
      "outputs": []
    },
    {
      "cell_type": "code",
      "source": [
        "for col in X_train.columns:\n",
        "    if col not in test_data.columns:\n",
        "        test_data[col] = 0  # Assign a default value like 0\n",
        "X_test = test_data[X_train.columns]"
      ],
      "metadata": {
        "id": "5HyjCnlR9b1V"
      },
      "execution_count": null,
      "outputs": []
    },
    {
      "cell_type": "code",
      "source": [],
      "metadata": {
        "id": "YqDATfrU9b3u"
      },
      "execution_count": null,
      "outputs": []
    },
    {
      "cell_type": "code",
      "source": [
        "y_pred = model.predict(X_test)"
      ],
      "metadata": {
        "id": "zEbpqSpF9b6P"
      },
      "execution_count": null,
      "outputs": []
    },
    {
      "cell_type": "code",
      "source": [
        "# Convert predictions to a DataFrame\n",
        "predictions_df = pd.DataFrame(y_pred, columns=['Predicted Labels'])\n",
        "\n",
        "# Save predictions to a CSV file\n",
        "predictions_df.to_csv('predictions.csv', index=False)\n",
        "\n",
        "# Display the first few predictions\n",
        "print(predictions_df.head())\n"
      ],
      "metadata": {
        "colab": {
          "base_uri": "https://localhost:8080/"
        },
        "id": "lossuTLa9b9B",
        "outputId": "f8091dd3-46f4-4dd9-afed-41fb4ec97903"
      },
      "execution_count": null,
      "outputs": [
        {
          "output_type": "stream",
          "name": "stdout",
          "text": [
            "  Predicted Labels\n",
            "0           normal\n",
            "1           normal\n",
            "2           normal\n",
            "3           normal\n",
            "4           normal\n"
          ]
        }
      ]
    },
    {
      "cell_type": "code",
      "source": [
        "# Randomly select indices to inject anomalies\n",
        "num_anomalies = 200\n",
        "indices = np.random.choice(len(test_data), num_anomalies, replace=False)\n",
        "\n",
        "# Introduce anomalies by setting extreme values for selected rows\n",
        "for col in ['Feature_1', 'Feature_2']:  # Use correct column names\n",
        "    test_data.loc[indices, col] = test_data[col].max() * 10\n",
        "\n",
        "# Assign anomaly label to the injected rows\n",
        "test_data.loc[indices, 'label'] = 'anomaly'  # Replace 'class' with the label column\n"
      ],
      "metadata": {
        "id": "mXWlLoMQ9cAh"
      },
      "execution_count": null,
      "outputs": []
    },
    {
      "cell_type": "code",
      "source": [
        "if 'class' not in test_data.columns:\n",
        "    test_data['class'] = 'normal'  # Default label as 'normal'\n"
      ],
      "metadata": {
        "id": "uHKE6jZt_as3"
      },
      "execution_count": null,
      "outputs": []
    },
    {
      "cell_type": "code",
      "source": [],
      "metadata": {
        "id": "Ok7dteD1_ava"
      },
      "execution_count": null,
      "outputs": []
    },
    {
      "cell_type": "code",
      "source": [],
      "metadata": {
        "id": "ebIxqwmb_ax6"
      },
      "execution_count": null,
      "outputs": []
    },
    {
      "cell_type": "code",
      "source": [],
      "metadata": {
        "id": "PBehaEZ5_a1M"
      },
      "execution_count": null,
      "outputs": []
    },
    {
      "cell_type": "code",
      "source": [],
      "metadata": {
        "id": "_IhlQnkQ_a3p"
      },
      "execution_count": null,
      "outputs": []
    },
    {
      "cell_type": "code",
      "source": [],
      "metadata": {
        "id": "WyL_oTnC_a6U"
      },
      "execution_count": null,
      "outputs": []
    },
    {
      "cell_type": "code",
      "source": [],
      "metadata": {
        "id": "JVoPsXx8_a98"
      },
      "execution_count": null,
      "outputs": []
    }
  ]
}